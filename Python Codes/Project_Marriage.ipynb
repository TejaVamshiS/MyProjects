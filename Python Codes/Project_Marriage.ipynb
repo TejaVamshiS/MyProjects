{
  "nbformat": 4,
  "nbformat_minor": 0,
  "metadata": {
    "colab": {
      "provenance": []
    },
    "kernelspec": {
      "name": "python3",
      "display_name": "Python 3"
    }
  },
  "cells": [
    {
      "cell_type": "markdown",
      "metadata": {
        "id": "JnBV1jbPpqrQ"
      },
      "source": [
        "#**Marriage**"
      ]
    },
    {
      "cell_type": "markdown",
      "metadata": {
        "id": "WgqloHw10At-"
      },
      "source": [
        "###**source of the datasets :** https://population.un.org/MarriageData/Index.html#/maritalStatusData\n",
        "\n",
        "###https://www.kaggle.com/data855/child-marriage"
      ]
    },
    {
      "cell_type": "markdown",
      "metadata": {
        "id": "C6iOYe5Zy3uF"
      },
      "source": [
        "#**Libraries used**\n",
        "\n",
        "Pandas\n",
        "\n",
        "Matplotlib.pyplot\n",
        "\n",
        "Numpy\n",
        "\n",
        "OrderedDict\n",
        "\n",
        "seaborn\n",
        "\n",
        "Output_notebook,Show,Figure,ColumnDataSource"
      ]
    },
    {
      "cell_type": "code",
      "metadata": {
        "id": "UIEoprPyub8f"
      },
      "source": [
        "import pandas as pd\n",
        "import numpy as np\n",
        "import matplotlib.pyplot as plt\n",
        "from collections import OrderedDict\n",
        "import seaborn as sns\n",
        "from bokeh.io import output_notebook, show\n",
        "from bokeh.plotting import figure, ColumnDataSource"
      ],
      "execution_count": null,
      "outputs": []
    },
    {
      "cell_type": "code",
      "metadata": {
        "id": "-yZVjUgVBykl"
      },
      "source": [
        "output_notebook()"
      ],
      "execution_count": null,
      "outputs": []
    },
    {
      "cell_type": "markdown",
      "metadata": {
        "id": "Kzqo75rjzlPO"
      },
      "source": [
        "#**Load the Dataset**"
      ]
    },
    {
      "cell_type": "code",
      "metadata": {
        "id": "0vKjEsm4vyI5",
        "colab": {
          "base_uri": "https://localhost:8080/"
        },
        "outputId": "5a8983ac-c512-4fb3-8cd6-f8c832886fbf"
      },
      "source": [
        "from google.colab import drive\n",
        "drive.mount('/content/drive')"
      ],
      "execution_count": null,
      "outputs": [
        {
          "output_type": "stream",
          "name": "stdout",
          "text": [
            "Mounted at /content/drive\n"
          ]
        }
      ]
    },
    {
      "cell_type": "code",
      "metadata": {
        "id": "02O8la0P3xzC",
        "colab": {
          "base_uri": "https://localhost:8080/"
        },
        "outputId": "aa879e5b-da6b-4c44-f42b-9577249028d0"
      },
      "source": [
        "data = pd.read_csv('/content/drive/My Drive/data/DVdataset.csv',encoding='utf8')"
      ],
      "execution_count": null,
      "outputs": [
        {
          "output_type": "stream",
          "name": "stderr",
          "text": [
            "/usr/local/lib/python3.7/dist-packages/IPython/core/interactiveshell.py:2882: DtypeWarning: Columns (22) have mixed types.Specify dtype option on import or set low_memory=False.\n",
            "  exec(code_obj, self.user_global_ns, self.user_ns)\n"
          ]
        }
      ]
    },
    {
      "cell_type": "code",
      "metadata": {
        "id": "Dbz9Ngy13xvq",
        "colab": {
          "base_uri": "https://localhost:8080/",
          "height": 699
        },
        "outputId": "538d6ba0-5ca4-4f66-ea78-b0806e45e360"
      },
      "source": [
        "data.head() #it wii give the top 5 row of the dataset"
      ],
      "execution_count": null,
      "outputs": [
        {
          "output_type": "execute_result",
          "data": {
            "text/plain": [
              "  Country or area  ISO code  YearStart  YearEnd  Sex MaritalStatus  \\\n",
              "0     Afghanistan         4       1972     1974  Men      Divorced   \n",
              "1     Afghanistan         4       1972     1974  Men      Divorced   \n",
              "2     Afghanistan         4       1972     1974  Men      Divorced   \n",
              "3     Afghanistan         4       1972     1974  Men      Divorced   \n",
              "4     Afghanistan         4       1972     1974  Men      Divorced   \n",
              "\n",
              "   Non-standard_AgeGroups  Series_contains_Non-standard_AgeGroups AgeGroup  \\\n",
              "0                     NaN                                     NaN  [15-19]   \n",
              "1                     NaN                                     NaN  [20-24]   \n",
              "2                     NaN                                     NaN  [25-29]   \n",
              "3                     NaN                                     NaN  [30-34]   \n",
              "4                     NaN                                     NaN  [35-39]   \n",
              "\n",
              "   AgeStart  ...  DataCatalog ShortName  DataCatalog ID  \\\n",
              "0        15  ...        1972-1974 NDFGS             160   \n",
              "1        20  ...        1972-1974 NDFGS             160   \n",
              "2        25  ...        1972-1974 NDFGS             160   \n",
              "3        30  ...        1972-1974 NDFGS             160   \n",
              "4        35  ...        1972-1974 NDFGS             160   \n",
              "\n",
              "                                DataCatalog LongName          Data Source  \\\n",
              "0  Afghanistan 1972-1974 National Demographic and...  National statistics   \n",
              "1  Afghanistan 1972-1974 National Demographic and...  National statistics   \n",
              "2  Afghanistan 1972-1974 National Demographic and...  National statistics   \n",
              "3  Afghanistan 1972-1974 National Demographic and...  National statistics   \n",
              "4  Afghanistan 1972-1974 National Demographic and...  National statistics   \n",
              "\n",
              "   Including_consensual_unions Note on Age groups Note on Marital Status  \\\n",
              "0                          NaN                NaN                    NaN   \n",
              "1                          NaN                NaN                    NaN   \n",
              "2                          NaN                NaN                    NaN   \n",
              "3                          NaN                NaN                    NaN   \n",
              "4                          NaN                NaN                    NaN   \n",
              "\n",
              "   Note on Data Note on Country and Population Note Other  \n",
              "0           NaN                            NaN        NaN  \n",
              "1           NaN                            NaN        NaN  \n",
              "2           NaN                            NaN        NaN  \n",
              "3           NaN                            NaN        NaN  \n",
              "4           NaN                            NaN        NaN  \n",
              "\n",
              "[5 rows x 23 columns]"
            ],
            "text/html": [
              "\n",
              "  <div id=\"df-62d8d5b7-c785-4a30-8d34-e0b5cb09e498\">\n",
              "    <div class=\"colab-df-container\">\n",
              "      <div>\n",
              "<style scoped>\n",
              "    .dataframe tbody tr th:only-of-type {\n",
              "        vertical-align: middle;\n",
              "    }\n",
              "\n",
              "    .dataframe tbody tr th {\n",
              "        vertical-align: top;\n",
              "    }\n",
              "\n",
              "    .dataframe thead th {\n",
              "        text-align: right;\n",
              "    }\n",
              "</style>\n",
              "<table border=\"1\" class=\"dataframe\">\n",
              "  <thead>\n",
              "    <tr style=\"text-align: right;\">\n",
              "      <th></th>\n",
              "      <th>Country or area</th>\n",
              "      <th>ISO code</th>\n",
              "      <th>YearStart</th>\n",
              "      <th>YearEnd</th>\n",
              "      <th>Sex</th>\n",
              "      <th>MaritalStatus</th>\n",
              "      <th>Non-standard_AgeGroups</th>\n",
              "      <th>Series_contains_Non-standard_AgeGroups</th>\n",
              "      <th>AgeGroup</th>\n",
              "      <th>AgeStart</th>\n",
              "      <th>...</th>\n",
              "      <th>DataCatalog ShortName</th>\n",
              "      <th>DataCatalog ID</th>\n",
              "      <th>DataCatalog LongName</th>\n",
              "      <th>Data Source</th>\n",
              "      <th>Including_consensual_unions</th>\n",
              "      <th>Note on Age groups</th>\n",
              "      <th>Note on Marital Status</th>\n",
              "      <th>Note on Data</th>\n",
              "      <th>Note on Country and Population</th>\n",
              "      <th>Note Other</th>\n",
              "    </tr>\n",
              "  </thead>\n",
              "  <tbody>\n",
              "    <tr>\n",
              "      <th>0</th>\n",
              "      <td>Afghanistan</td>\n",
              "      <td>4</td>\n",
              "      <td>1972</td>\n",
              "      <td>1974</td>\n",
              "      <td>Men</td>\n",
              "      <td>Divorced</td>\n",
              "      <td>NaN</td>\n",
              "      <td>NaN</td>\n",
              "      <td>[15-19]</td>\n",
              "      <td>15</td>\n",
              "      <td>...</td>\n",
              "      <td>1972-1974 NDFGS</td>\n",
              "      <td>160</td>\n",
              "      <td>Afghanistan 1972-1974 National Demographic and...</td>\n",
              "      <td>National statistics</td>\n",
              "      <td>NaN</td>\n",
              "      <td>NaN</td>\n",
              "      <td>NaN</td>\n",
              "      <td>NaN</td>\n",
              "      <td>NaN</td>\n",
              "      <td>NaN</td>\n",
              "    </tr>\n",
              "    <tr>\n",
              "      <th>1</th>\n",
              "      <td>Afghanistan</td>\n",
              "      <td>4</td>\n",
              "      <td>1972</td>\n",
              "      <td>1974</td>\n",
              "      <td>Men</td>\n",
              "      <td>Divorced</td>\n",
              "      <td>NaN</td>\n",
              "      <td>NaN</td>\n",
              "      <td>[20-24]</td>\n",
              "      <td>20</td>\n",
              "      <td>...</td>\n",
              "      <td>1972-1974 NDFGS</td>\n",
              "      <td>160</td>\n",
              "      <td>Afghanistan 1972-1974 National Demographic and...</td>\n",
              "      <td>National statistics</td>\n",
              "      <td>NaN</td>\n",
              "      <td>NaN</td>\n",
              "      <td>NaN</td>\n",
              "      <td>NaN</td>\n",
              "      <td>NaN</td>\n",
              "      <td>NaN</td>\n",
              "    </tr>\n",
              "    <tr>\n",
              "      <th>2</th>\n",
              "      <td>Afghanistan</td>\n",
              "      <td>4</td>\n",
              "      <td>1972</td>\n",
              "      <td>1974</td>\n",
              "      <td>Men</td>\n",
              "      <td>Divorced</td>\n",
              "      <td>NaN</td>\n",
              "      <td>NaN</td>\n",
              "      <td>[25-29]</td>\n",
              "      <td>25</td>\n",
              "      <td>...</td>\n",
              "      <td>1972-1974 NDFGS</td>\n",
              "      <td>160</td>\n",
              "      <td>Afghanistan 1972-1974 National Demographic and...</td>\n",
              "      <td>National statistics</td>\n",
              "      <td>NaN</td>\n",
              "      <td>NaN</td>\n",
              "      <td>NaN</td>\n",
              "      <td>NaN</td>\n",
              "      <td>NaN</td>\n",
              "      <td>NaN</td>\n",
              "    </tr>\n",
              "    <tr>\n",
              "      <th>3</th>\n",
              "      <td>Afghanistan</td>\n",
              "      <td>4</td>\n",
              "      <td>1972</td>\n",
              "      <td>1974</td>\n",
              "      <td>Men</td>\n",
              "      <td>Divorced</td>\n",
              "      <td>NaN</td>\n",
              "      <td>NaN</td>\n",
              "      <td>[30-34]</td>\n",
              "      <td>30</td>\n",
              "      <td>...</td>\n",
              "      <td>1972-1974 NDFGS</td>\n",
              "      <td>160</td>\n",
              "      <td>Afghanistan 1972-1974 National Demographic and...</td>\n",
              "      <td>National statistics</td>\n",
              "      <td>NaN</td>\n",
              "      <td>NaN</td>\n",
              "      <td>NaN</td>\n",
              "      <td>NaN</td>\n",
              "      <td>NaN</td>\n",
              "      <td>NaN</td>\n",
              "    </tr>\n",
              "    <tr>\n",
              "      <th>4</th>\n",
              "      <td>Afghanistan</td>\n",
              "      <td>4</td>\n",
              "      <td>1972</td>\n",
              "      <td>1974</td>\n",
              "      <td>Men</td>\n",
              "      <td>Divorced</td>\n",
              "      <td>NaN</td>\n",
              "      <td>NaN</td>\n",
              "      <td>[35-39]</td>\n",
              "      <td>35</td>\n",
              "      <td>...</td>\n",
              "      <td>1972-1974 NDFGS</td>\n",
              "      <td>160</td>\n",
              "      <td>Afghanistan 1972-1974 National Demographic and...</td>\n",
              "      <td>National statistics</td>\n",
              "      <td>NaN</td>\n",
              "      <td>NaN</td>\n",
              "      <td>NaN</td>\n",
              "      <td>NaN</td>\n",
              "      <td>NaN</td>\n",
              "      <td>NaN</td>\n",
              "    </tr>\n",
              "  </tbody>\n",
              "</table>\n",
              "<p>5 rows × 23 columns</p>\n",
              "</div>\n",
              "      <button class=\"colab-df-convert\" onclick=\"convertToInteractive('df-62d8d5b7-c785-4a30-8d34-e0b5cb09e498')\"\n",
              "              title=\"Convert this dataframe to an interactive table.\"\n",
              "              style=\"display:none;\">\n",
              "        \n",
              "  <svg xmlns=\"http://www.w3.org/2000/svg\" height=\"24px\"viewBox=\"0 0 24 24\"\n",
              "       width=\"24px\">\n",
              "    <path d=\"M0 0h24v24H0V0z\" fill=\"none\"/>\n",
              "    <path d=\"M18.56 5.44l.94 2.06.94-2.06 2.06-.94-2.06-.94-.94-2.06-.94 2.06-2.06.94zm-11 1L8.5 8.5l.94-2.06 2.06-.94-2.06-.94L8.5 2.5l-.94 2.06-2.06.94zm10 10l.94 2.06.94-2.06 2.06-.94-2.06-.94-.94-2.06-.94 2.06-2.06.94z\"/><path d=\"M17.41 7.96l-1.37-1.37c-.4-.4-.92-.59-1.43-.59-.52 0-1.04.2-1.43.59L10.3 9.45l-7.72 7.72c-.78.78-.78 2.05 0 2.83L4 21.41c.39.39.9.59 1.41.59.51 0 1.02-.2 1.41-.59l7.78-7.78 2.81-2.81c.8-.78.8-2.07 0-2.86zM5.41 20L4 18.59l7.72-7.72 1.47 1.35L5.41 20z\"/>\n",
              "  </svg>\n",
              "      </button>\n",
              "      \n",
              "  <style>\n",
              "    .colab-df-container {\n",
              "      display:flex;\n",
              "      flex-wrap:wrap;\n",
              "      gap: 12px;\n",
              "    }\n",
              "\n",
              "    .colab-df-convert {\n",
              "      background-color: #E8F0FE;\n",
              "      border: none;\n",
              "      border-radius: 50%;\n",
              "      cursor: pointer;\n",
              "      display: none;\n",
              "      fill: #1967D2;\n",
              "      height: 32px;\n",
              "      padding: 0 0 0 0;\n",
              "      width: 32px;\n",
              "    }\n",
              "\n",
              "    .colab-df-convert:hover {\n",
              "      background-color: #E2EBFA;\n",
              "      box-shadow: 0px 1px 2px rgba(60, 64, 67, 0.3), 0px 1px 3px 1px rgba(60, 64, 67, 0.15);\n",
              "      fill: #174EA6;\n",
              "    }\n",
              "\n",
              "    [theme=dark] .colab-df-convert {\n",
              "      background-color: #3B4455;\n",
              "      fill: #D2E3FC;\n",
              "    }\n",
              "\n",
              "    [theme=dark] .colab-df-convert:hover {\n",
              "      background-color: #434B5C;\n",
              "      box-shadow: 0px 1px 3px 1px rgba(0, 0, 0, 0.15);\n",
              "      filter: drop-shadow(0px 1px 2px rgba(0, 0, 0, 0.3));\n",
              "      fill: #FFFFFF;\n",
              "    }\n",
              "  </style>\n",
              "\n",
              "      <script>\n",
              "        const buttonEl =\n",
              "          document.querySelector('#df-62d8d5b7-c785-4a30-8d34-e0b5cb09e498 button.colab-df-convert');\n",
              "        buttonEl.style.display =\n",
              "          google.colab.kernel.accessAllowed ? 'block' : 'none';\n",
              "\n",
              "        async function convertToInteractive(key) {\n",
              "          const element = document.querySelector('#df-62d8d5b7-c785-4a30-8d34-e0b5cb09e498');\n",
              "          const dataTable =\n",
              "            await google.colab.kernel.invokeFunction('convertToInteractive',\n",
              "                                                     [key], {});\n",
              "          if (!dataTable) return;\n",
              "\n",
              "          const docLinkHtml = 'Like what you see? Visit the ' +\n",
              "            '<a target=\"_blank\" href=https://colab.research.google.com/notebooks/data_table.ipynb>data table notebook</a>'\n",
              "            + ' to learn more about interactive tables.';\n",
              "          element.innerHTML = '';\n",
              "          dataTable['output_type'] = 'display_data';\n",
              "          await google.colab.output.renderOutput(dataTable, element);\n",
              "          const docLink = document.createElement('div');\n",
              "          docLink.innerHTML = docLinkHtml;\n",
              "          element.appendChild(docLink);\n",
              "        }\n",
              "      </script>\n",
              "    </div>\n",
              "  </div>\n",
              "  "
            ]
          },
          "metadata": {},
          "execution_count": 5
        }
      ]
    },
    {
      "cell_type": "markdown",
      "metadata": {
        "id": "Y4Ls6ifAwrCG"
      },
      "source": [
        "###**Now we are looking into the dataset,like Description,Info,Shape[No of rows and columns].**"
      ]
    },
    {
      "cell_type": "code",
      "metadata": {
        "id": "WlpW6s4zzwwp",
        "colab": {
          "base_uri": "https://localhost:8080/"
        },
        "outputId": "9108998f-3fd3-416c-c5da-d84c0d4206ce"
      },
      "source": [
        "print(data.describe())\n",
        "print(data.info())\n",
        "print(data.shape)"
      ],
      "execution_count": null,
      "outputs": [
        {
          "output_type": "stream",
          "name": "stdout",
          "text": [
            "            ISO code      YearStart        YearEnd  Non-standard_AgeGroups  \\\n",
            "count  253117.000000  253117.000000  253117.000000                  3771.0   \n",
            "mean      444.442384    1995.619824    1995.715637                     1.0   \n",
            "std       350.588962      13.781510      13.822294                     0.0   \n",
            "min         4.000000    1954.000000    1955.000000                     1.0   \n",
            "25%       233.000000    1985.000000    1985.000000                     1.0   \n",
            "50%       422.000000    1998.000000    1999.000000                     1.0   \n",
            "75%       646.000000    2008.000000    2008.000000                     1.0   \n",
            "max     11578.000000    2016.000000    2016.000000                     1.0   \n",
            "\n",
            "       Series_contains_Non-standard_AgeGroups       AgeStart         AgeEnd  \\\n",
            "count                                 14898.0  253117.000000  253117.000000   \n",
            "mean                                      1.0      40.907738     105.938159   \n",
            "std                                       0.0      18.873785     238.196159   \n",
            "min                                       1.0       0.000000      14.000000   \n",
            "25%                                       1.0      25.000000      29.000000   \n",
            "50%                                       1.0      40.000000      44.000000   \n",
            "75%                                       1.0      55.000000      59.000000   \n",
            "max                                       1.0      75.000000     999.000000   \n",
            "\n",
            "           DataValue  DataCatalog ID  Including_consensual_unions  \n",
            "count  253117.000000   253117.000000                          0.0  \n",
            "mean       21.943886     2321.554672                          NaN  \n",
            "std        30.075471     1527.140833                          NaN  \n",
            "min         0.000000        5.000000                          NaN  \n",
            "25%         1.200000     1368.000000                          NaN  \n",
            "50%         6.100000     2094.000000                          NaN  \n",
            "75%        32.800000     2300.000000                          NaN  \n",
            "max       100.100000     7489.000000                          NaN  \n",
            "<class 'pandas.core.frame.DataFrame'>\n",
            "RangeIndex: 253117 entries, 0 to 253116\n",
            "Data columns (total 23 columns):\n",
            " #   Column                                  Non-Null Count   Dtype  \n",
            "---  ------                                  --------------   -----  \n",
            " 0   Country or area                         253117 non-null  object \n",
            " 1   ISO code                                253117 non-null  int64  \n",
            " 2   YearStart                               253117 non-null  int64  \n",
            " 3   YearEnd                                 253117 non-null  int64  \n",
            " 4   Sex                                     253117 non-null  object \n",
            " 5   MaritalStatus                           253117 non-null  object \n",
            " 6   Non-standard_AgeGroups                  3771 non-null    float64\n",
            " 7   Series_contains_Non-standard_AgeGroups  14898 non-null   float64\n",
            " 8   AgeGroup                                253117 non-null  object \n",
            " 9   AgeStart                                253117 non-null  int64  \n",
            " 10  AgeEnd                                  253117 non-null  int64  \n",
            " 11  DataValue                               253117 non-null  float64\n",
            " 12  DataProcess                             253117 non-null  object \n",
            " 13  DataCatalog ShortName                   253117 non-null  object \n",
            " 14  DataCatalog ID                          253117 non-null  int64  \n",
            " 15  DataCatalog LongName                    253117 non-null  object \n",
            " 16  Data Source                             253117 non-null  object \n",
            " 17  Including_consensual_unions             0 non-null       float64\n",
            " 18  Note on Age groups                      17561 non-null   object \n",
            " 19  Note on Marital Status                  4023 non-null    object \n",
            " 20  Note on Data                            18027 non-null   object \n",
            " 21  Note on Country and Population          36525 non-null   object \n",
            " 22  Note Other                              886 non-null     object \n",
            "dtypes: float64(4), int64(6), object(13)\n",
            "memory usage: 44.4+ MB\n",
            "None\n",
            "(253117, 23)\n"
          ]
        }
      ]
    },
    {
      "cell_type": "markdown",
      "metadata": {
        "id": "W6NY0ftNz67u"
      },
      "source": [
        "#**checking for missing values**"
      ]
    },
    {
      "cell_type": "code",
      "metadata": {
        "id": "z0GkGMBdyd0o",
        "colab": {
          "base_uri": "https://localhost:8080/"
        },
        "outputId": "eef62412-d98c-4c86-d48d-8e5ddcd3f104"
      },
      "source": [
        "data.isnull().sum()"
      ],
      "execution_count": null,
      "outputs": [
        {
          "output_type": "execute_result",
          "data": {
            "text/plain": [
              "Country or area                                0\n",
              "ISO code                                       0\n",
              "YearStart                                      0\n",
              "YearEnd                                        0\n",
              "Sex                                            0\n",
              "MaritalStatus                                  0\n",
              "Non-standard_AgeGroups                    249346\n",
              "Series_contains_Non-standard_AgeGroups    238219\n",
              "AgeGroup                                       0\n",
              "AgeStart                                       0\n",
              "AgeEnd                                         0\n",
              "DataValue                                      0\n",
              "DataProcess                                    0\n",
              "DataCatalog ShortName                          0\n",
              "DataCatalog ID                                 0\n",
              "DataCatalog LongName                           0\n",
              "Data Source                                    0\n",
              "Including_consensual_unions               253117\n",
              "Note on Age groups                        235556\n",
              "Note on Marital Status                    249094\n",
              "Note on Data                              235090\n",
              "Note on Country and Population            216592\n",
              "Note Other                                252231\n",
              "dtype: int64"
            ]
          },
          "metadata": {},
          "execution_count": 7
        }
      ]
    },
    {
      "cell_type": "markdown",
      "metadata": {
        "id": "qPNf-hYn0Dgn"
      },
      "source": [
        "#**pre-processing the dataset**"
      ]
    },
    {
      "cell_type": "code",
      "metadata": {
        "id": "VAmKADOky2Mn",
        "colab": {
          "base_uri": "https://localhost:8080/"
        },
        "outputId": "6d232cc8-60ea-4544-8280-5a1304a88101"
      },
      "source": [
        "df=data.drop(columns=['Non-standard_AgeGroups','Series_contains_Non-standard_AgeGroups','Including_consensual_unions','Note on Age groups','Note on Marital Status','Note on Data','Note on Country and Population','Note Other'])\n",
        "df.shape #after preprocessing the dataset, the shape of the dataset is changed"
      ],
      "execution_count": null,
      "outputs": [
        {
          "output_type": "execute_result",
          "data": {
            "text/plain": [
              "(253117, 15)"
            ]
          },
          "metadata": {},
          "execution_count": 8
        }
      ]
    },
    {
      "cell_type": "code",
      "metadata": {
        "id": "DtE1vENc1o16",
        "colab": {
          "base_uri": "https://localhost:8080/"
        },
        "outputId": "dc602b5b-0643-414e-c521-434e91135601"
      },
      "source": [
        "df['MaritalStatus'].value_counts()"
      ],
      "execution_count": null,
      "outputs": [
        {
          "output_type": "execute_result",
          "data": {
            "text/plain": [
              "Widowed                                          53482\n",
              "Married                                          50387\n",
              "Divorced                                         47780\n",
              "Single                                           45799\n",
              "Separated                                        16435\n",
              "Consensual union                                 10074\n",
              "Never married                                     9505\n",
              "Divorced or Separated                             4819\n",
              "Living together                                   4206\n",
              "Not living together                               4111\n",
              "Married or in consensual union                    2314\n",
              "Married or married but separated                  1520\n",
              "Currently not married                              607\n",
              "Ever married                                       509\n",
              "Widowed or divorced                                290\n",
              "Consensual union, not living together              277\n",
              "Married, in consensual unions or separated         196\n",
              "Registred partnership                              175\n",
              "Divorced or Separated or Widowed                   126\n",
              "Visiting partner                                   104\n",
              "Widowed, divorced or separated                      59\n",
              "Married monogamous                                  50\n",
              "Married polygamous                                  49\n",
              "Currently not married nor in consensual union       46\n",
              "Separated from consensual union                     37\n",
              "Divorced or Widowed                                 31\n",
              "Single or in consensual unions                      28\n",
              "Separated from marriage                             27\n",
              "Married spouse absent                               24\n",
              "Married spouse present                              24\n",
              "Married gaunna not performed                        14\n",
              "Widowed or separated                                12\n",
              "Name: MaritalStatus, dtype: int64"
            ]
          },
          "metadata": {},
          "execution_count": 9
        }
      ]
    },
    {
      "cell_type": "markdown",
      "metadata": {
        "id": "EN-g9mmf24j0"
      },
      "source": [
        "###As u can see  in the above categories of marital status ,there are many of kinds , so we thought only 5 as important and we plotted for them."
      ]
    },
    {
      "cell_type": "code",
      "metadata": {
        "id": "nEwqyG7Q4lSh",
        "colab": {
          "base_uri": "https://localhost:8080/"
        },
        "outputId": "73bc0239-2c5f-4195-980c-52359cef2997"
      },
      "source": [
        "martial_status=data['MaritalStatus']    #assining the Martial status data to the variable\n",
        "\n",
        "#counting the specific variable in a column and assining to the variables\n",
        "\n",
        "Widowed=martial_status[martial_status[:]== 'Widowed'].count()\n",
        "Married=martial_status[martial_status[:]== 'Married'].count()\n",
        "Divorced=martial_status[martial_status[:]== 'Divorced'].count()\n",
        "Single=martial_status[martial_status[:]== 'Single'].count()\n",
        "Ever_married=martial_status[martial_status[:]== 'Ever married'].count()\n",
        "\n",
        "status1={'Widowed':Widowed,'Married':Married,'Divorced':Divorced,'Single':Single,'Ever_married':Ever_married}    #creating the dictionary where it contains the variables as keys and count of it as values\n",
        "status = OrderedDict(sorted(status1.items()))  #sorting the dictonary\n",
        "\n",
        "keys=list(status.keys())    #extracting the variables(keys) as list and storing into another variable\n",
        "items=list(status.values())  #extracting the values(items)  as list and storing into another variable\n",
        "print(keys)\n",
        "print(items)"
      ],
      "execution_count": null,
      "outputs": [
        {
          "output_type": "stream",
          "name": "stdout",
          "text": [
            "['Divorced', 'Ever_married', 'Married', 'Single', 'Widowed']\n",
            "[47780, 509, 50387, 45799, 53482]\n"
          ]
        }
      ]
    },
    {
      "cell_type": "code",
      "metadata": {
        "colab": {
          "base_uri": "https://localhost:8080/",
          "height": 417
        },
        "id": "-LZIQgnQqeLA",
        "outputId": "2ed43feb-b7a8-48bd-bffc-f5b465b5419d"
      },
      "source": [
        "# Bokeh is an interactive visualization library for modern web browsers\n",
        "x = ['Divorced', 'Ever_married','Married', 'Single', 'Widowed']\n",
        "\n",
        "p = figure(plot_height = 400, plot_width = 400, x_range = x)\n",
        "top = [47780, 509, 50387, 45799, 53482]\n",
        "color = ['limegreen','red','skyblue','yellow','orange']\n",
        "\n",
        "source = ColumnDataSource(dict(categories = x, top = top, color = color))\n",
        "p.vbar(top = 'top', x = 'categories', width = 0.5, color = 'color',  source = source, alpha = 0.7)\n",
        "show(p)"
      ],
      "execution_count": null,
      "outputs": [
        {
          "output_type": "display_data",
          "data": {
            "application/javascript": [
              "\n",
              "(function(root) {\n",
              "  function now() {\n",
              "    return new Date();\n",
              "  }\n",
              "\n",
              "  var force = true;\n",
              "\n",
              "  if (typeof root._bokeh_onload_callbacks === \"undefined\" || force === true) {\n",
              "    root._bokeh_onload_callbacks = [];\n",
              "    root._bokeh_is_loading = undefined;\n",
              "  }\n",
              "\n",
              "  var JS_MIME_TYPE = 'application/javascript';\n",
              "  var HTML_MIME_TYPE = 'text/html';\n",
              "  var EXEC_MIME_TYPE = 'application/vnd.bokehjs_exec.v0+json';\n",
              "  var CLASS_NAME = 'output_bokeh rendered_html';\n",
              "\n",
              "  /**\n",
              "   * Render data to the DOM node\n",
              "   */\n",
              "  function render(props, node) {\n",
              "    var script = document.createElement(\"script\");\n",
              "    node.appendChild(script);\n",
              "  }\n",
              "\n",
              "  /**\n",
              "   * Handle when an output is cleared or removed\n",
              "   */\n",
              "  function handleClearOutput(event, handle) {\n",
              "    var cell = handle.cell;\n",
              "\n",
              "    var id = cell.output_area._bokeh_element_id;\n",
              "    var server_id = cell.output_area._bokeh_server_id;\n",
              "    // Clean up Bokeh references\n",
              "    if (id != null && id in Bokeh.index) {\n",
              "      Bokeh.index[id].model.document.clear();\n",
              "      delete Bokeh.index[id];\n",
              "    }\n",
              "\n",
              "    if (server_id !== undefined) {\n",
              "      // Clean up Bokeh references\n",
              "      var cmd = \"from bokeh.io.state import curstate; print(curstate().uuid_to_server['\" + server_id + \"'].get_sessions()[0].document.roots[0]._id)\";\n",
              "      cell.notebook.kernel.execute(cmd, {\n",
              "        iopub: {\n",
              "          output: function(msg) {\n",
              "            var id = msg.content.text.trim();\n",
              "            if (id in Bokeh.index) {\n",
              "              Bokeh.index[id].model.document.clear();\n",
              "              delete Bokeh.index[id];\n",
              "            }\n",
              "          }\n",
              "        }\n",
              "      });\n",
              "      // Destroy server and session\n",
              "      var cmd = \"import bokeh.io.notebook as ion; ion.destroy_server('\" + server_id + \"')\";\n",
              "      cell.notebook.kernel.execute(cmd);\n",
              "    }\n",
              "  }\n",
              "\n",
              "  /**\n",
              "   * Handle when a new output is added\n",
              "   */\n",
              "  function handleAddOutput(event, handle) {\n",
              "    var output_area = handle.output_area;\n",
              "    var output = handle.output;\n",
              "\n",
              "    // limit handleAddOutput to display_data with EXEC_MIME_TYPE content only\n",
              "    if ((output.output_type != \"display_data\") || (!Object.prototype.hasOwnProperty.call(output.data, EXEC_MIME_TYPE))) {\n",
              "      return\n",
              "    }\n",
              "\n",
              "    var toinsert = output_area.element.find(\".\" + CLASS_NAME.split(' ')[0]);\n",
              "\n",
              "    if (output.metadata[EXEC_MIME_TYPE][\"id\"] !== undefined) {\n",
              "      toinsert[toinsert.length - 1].firstChild.textContent = output.data[JS_MIME_TYPE];\n",
              "      // store reference to embed id on output_area\n",
              "      output_area._bokeh_element_id = output.metadata[EXEC_MIME_TYPE][\"id\"];\n",
              "    }\n",
              "    if (output.metadata[EXEC_MIME_TYPE][\"server_id\"] !== undefined) {\n",
              "      var bk_div = document.createElement(\"div\");\n",
              "      bk_div.innerHTML = output.data[HTML_MIME_TYPE];\n",
              "      var script_attrs = bk_div.children[0].attributes;\n",
              "      for (var i = 0; i < script_attrs.length; i++) {\n",
              "        toinsert[toinsert.length - 1].firstChild.setAttribute(script_attrs[i].name, script_attrs[i].value);\n",
              "        toinsert[toinsert.length - 1].firstChild.textContent = bk_div.children[0].textContent\n",
              "      }\n",
              "      // store reference to server id on output_area\n",
              "      output_area._bokeh_server_id = output.metadata[EXEC_MIME_TYPE][\"server_id\"];\n",
              "    }\n",
              "  }\n",
              "\n",
              "  function register_renderer(events, OutputArea) {\n",
              "\n",
              "    function append_mime(data, metadata, element) {\n",
              "      // create a DOM node to render to\n",
              "      var toinsert = this.create_output_subarea(\n",
              "        metadata,\n",
              "        CLASS_NAME,\n",
              "        EXEC_MIME_TYPE\n",
              "      );\n",
              "      this.keyboard_manager.register_events(toinsert);\n",
              "      // Render to node\n",
              "      var props = {data: data, metadata: metadata[EXEC_MIME_TYPE]};\n",
              "      render(props, toinsert[toinsert.length - 1]);\n",
              "      element.append(toinsert);\n",
              "      return toinsert\n",
              "    }\n",
              "\n",
              "    /* Handle when an output is cleared or removed */\n",
              "    events.on('clear_output.CodeCell', handleClearOutput);\n",
              "    events.on('delete.Cell', handleClearOutput);\n",
              "\n",
              "    /* Handle when a new output is added */\n",
              "    events.on('output_added.OutputArea', handleAddOutput);\n",
              "\n",
              "    /**\n",
              "     * Register the mime type and append_mime function with output_area\n",
              "     */\n",
              "    OutputArea.prototype.register_mime_type(EXEC_MIME_TYPE, append_mime, {\n",
              "      /* Is output safe? */\n",
              "      safe: true,\n",
              "      /* Index of renderer in `output_area.display_order` */\n",
              "      index: 0\n",
              "    });\n",
              "  }\n",
              "\n",
              "  // register the mime type if in Jupyter Notebook environment and previously unregistered\n",
              "  if (root.Jupyter !== undefined) {\n",
              "    var events = require('base/js/events');\n",
              "    var OutputArea = require('notebook/js/outputarea').OutputArea;\n",
              "\n",
              "    if (OutputArea.prototype.mime_types().indexOf(EXEC_MIME_TYPE) == -1) {\n",
              "      register_renderer(events, OutputArea);\n",
              "    }\n",
              "  }\n",
              "\n",
              "  \n",
              "  if (typeof (root._bokeh_timeout) === \"undefined\" || force === true) {\n",
              "    root._bokeh_timeout = Date.now() + 5000;\n",
              "    root._bokeh_failed_load = false;\n",
              "  }\n",
              "\n",
              "  var NB_LOAD_WARNING = {'data': {'text/html':\n",
              "     \"<div style='background-color: #fdd'>\\n\"+\n",
              "     \"<p>\\n\"+\n",
              "     \"BokehJS does not appear to have successfully loaded. If loading BokehJS from CDN, this \\n\"+\n",
              "     \"may be due to a slow or bad network connection. Possible fixes:\\n\"+\n",
              "     \"</p>\\n\"+\n",
              "     \"<ul>\\n\"+\n",
              "     \"<li>re-rerun `output_notebook()` to attempt to load from CDN again, or</li>\\n\"+\n",
              "     \"<li>use INLINE resources instead, as so:</li>\\n\"+\n",
              "     \"</ul>\\n\"+\n",
              "     \"<code>\\n\"+\n",
              "     \"from bokeh.resources import INLINE\\n\"+\n",
              "     \"output_notebook(resources=INLINE)\\n\"+\n",
              "     \"</code>\\n\"+\n",
              "     \"</div>\"}};\n",
              "\n",
              "  function display_loaded() {\n",
              "    var el = document.getElementById(null);\n",
              "    if (el != null) {\n",
              "      el.textContent = \"BokehJS is loading...\";\n",
              "    }\n",
              "    if (root.Bokeh !== undefined) {\n",
              "      if (el != null) {\n",
              "        el.textContent = \"BokehJS \" + root.Bokeh.version + \" successfully loaded.\";\n",
              "      }\n",
              "    } else if (Date.now() < root._bokeh_timeout) {\n",
              "      setTimeout(display_loaded, 100)\n",
              "    }\n",
              "  }\n",
              "\n",
              "\n",
              "  function run_callbacks() {\n",
              "    try {\n",
              "      root._bokeh_onload_callbacks.forEach(function(callback) {\n",
              "        if (callback != null)\n",
              "          callback();\n",
              "      });\n",
              "    } finally {\n",
              "      delete root._bokeh_onload_callbacks\n",
              "    }\n",
              "    console.debug(\"Bokeh: all callbacks have finished\");\n",
              "  }\n",
              "\n",
              "  function load_libs(css_urls, js_urls, callback) {\n",
              "    if (css_urls == null) css_urls = [];\n",
              "    if (js_urls == null) js_urls = [];\n",
              "\n",
              "    root._bokeh_onload_callbacks.push(callback);\n",
              "    if (root._bokeh_is_loading > 0) {\n",
              "      console.debug(\"Bokeh: BokehJS is being loaded, scheduling callback at\", now());\n",
              "      return null;\n",
              "    }\n",
              "    if (js_urls == null || js_urls.length === 0) {\n",
              "      run_callbacks();\n",
              "      return null;\n",
              "    }\n",
              "    console.debug(\"Bokeh: BokehJS not loaded, scheduling load and callback at\", now());\n",
              "    root._bokeh_is_loading = css_urls.length + js_urls.length;\n",
              "\n",
              "    function on_load() {\n",
              "      root._bokeh_is_loading--;\n",
              "      if (root._bokeh_is_loading === 0) {\n",
              "        console.debug(\"Bokeh: all BokehJS libraries/stylesheets loaded\");\n",
              "        run_callbacks()\n",
              "      }\n",
              "    }\n",
              "\n",
              "    function on_error(url) {\n",
              "      console.error(\"failed to load \" + url);\n",
              "    }\n",
              "\n",
              "    for (let i = 0; i < css_urls.length; i++) {\n",
              "      const url = css_urls[i];\n",
              "      const element = document.createElement(\"link\");\n",
              "      element.onload = on_load;\n",
              "      element.onerror = on_error.bind(null, url);\n",
              "      element.rel = \"stylesheet\";\n",
              "      element.type = \"text/css\";\n",
              "      element.href = url;\n",
              "      console.debug(\"Bokeh: injecting link tag for BokehJS stylesheet: \", url);\n",
              "      document.body.appendChild(element);\n",
              "    }\n",
              "\n",
              "    const hashes = {\"https://cdn.bokeh.org/bokeh/release/bokeh-2.3.3.min.js\": \"dM3QQsP+wXdHg42wTqW85BjZQdLNNIXqlPw/BgKoExPmTG7ZLML4EGqLMfqHT6ON\", \"https://cdn.bokeh.org/bokeh/release/bokeh-tables-2.3.3.min.js\": \"8x57I4YuIfu8XyZfFo0XVr2WAT8EK4rh/uDe3wF7YuW2FNUSNEpJbsPaB1nJ2fz2\", \"https://cdn.bokeh.org/bokeh/release/bokeh-widgets-2.3.3.min.js\": \"3QTqdz9LyAm2i0sG5XTePsHec3UHWwVsrOL68SYRoAXsafvfAyqtQ+h440+qIBhS\"};\n",
              "\n",
              "    for (let i = 0; i < js_urls.length; i++) {\n",
              "      const url = js_urls[i];\n",
              "      const element = document.createElement('script');\n",
              "      element.onload = on_load;\n",
              "      element.onerror = on_error.bind(null, url);\n",
              "      element.async = false;\n",
              "      element.src = url;\n",
              "      if (url in hashes) {\n",
              "        element.crossOrigin = \"anonymous\";\n",
              "        element.integrity = \"sha384-\" + hashes[url];\n",
              "      }\n",
              "      console.debug(\"Bokeh: injecting script tag for BokehJS library: \", url);\n",
              "      document.head.appendChild(element);\n",
              "    }\n",
              "  };\n",
              "\n",
              "  function inject_raw_css(css) {\n",
              "    const element = document.createElement(\"style\");\n",
              "    element.appendChild(document.createTextNode(css));\n",
              "    document.body.appendChild(element);\n",
              "  }\n",
              "\n",
              "  \n",
              "  var js_urls = [\"https://cdn.bokeh.org/bokeh/release/bokeh-2.3.3.min.js\", \"https://cdn.bokeh.org/bokeh/release/bokeh-widgets-2.3.3.min.js\", \"https://cdn.bokeh.org/bokeh/release/bokeh-tables-2.3.3.min.js\"];\n",
              "  var css_urls = [];\n",
              "  \n",
              "\n",
              "  var inline_js = [\n",
              "    function(Bokeh) {\n",
              "      Bokeh.set_log_level(\"info\");\n",
              "    },\n",
              "    function(Bokeh) {\n",
              "    \n",
              "    \n",
              "    }\n",
              "  ];\n",
              "\n",
              "  function run_inline_js() {\n",
              "    \n",
              "    if (root.Bokeh !== undefined || force === true) {\n",
              "      \n",
              "    for (var i = 0; i < inline_js.length; i++) {\n",
              "      inline_js[i].call(root, root.Bokeh);\n",
              "    }\n",
              "    } else if (Date.now() < root._bokeh_timeout) {\n",
              "      setTimeout(run_inline_js, 100);\n",
              "    } else if (!root._bokeh_failed_load) {\n",
              "      console.log(\"Bokeh: BokehJS failed to load within specified timeout.\");\n",
              "      root._bokeh_failed_load = true;\n",
              "    } else if (force !== true) {\n",
              "      var cell = $(document.getElementById(null)).parents('.cell').data().cell;\n",
              "      cell.output_area.append_execute_result(NB_LOAD_WARNING)\n",
              "    }\n",
              "\n",
              "  }\n",
              "\n",
              "  if (root._bokeh_is_loading === 0) {\n",
              "    console.debug(\"Bokeh: BokehJS loaded, going straight to plotting\");\n",
              "    run_inline_js();\n",
              "  } else {\n",
              "    load_libs(css_urls, js_urls, function() {\n",
              "      console.debug(\"Bokeh: BokehJS plotting callback run at\", now());\n",
              "      run_inline_js();\n",
              "    });\n",
              "  }\n",
              "}(window));"
            ],
            "application/vnd.bokehjs_load.v0+json": "\n(function(root) {\n  function now() {\n    return new Date();\n  }\n\n  var force = true;\n\n  if (typeof root._bokeh_onload_callbacks === \"undefined\" || force === true) {\n    root._bokeh_onload_callbacks = [];\n    root._bokeh_is_loading = undefined;\n  }\n\n  \n\n  \n  if (typeof (root._bokeh_timeout) === \"undefined\" || force === true) {\n    root._bokeh_timeout = Date.now() + 5000;\n    root._bokeh_failed_load = false;\n  }\n\n  var NB_LOAD_WARNING = {'data': {'text/html':\n     \"<div style='background-color: #fdd'>\\n\"+\n     \"<p>\\n\"+\n     \"BokehJS does not appear to have successfully loaded. If loading BokehJS from CDN, this \\n\"+\n     \"may be due to a slow or bad network connection. Possible fixes:\\n\"+\n     \"</p>\\n\"+\n     \"<ul>\\n\"+\n     \"<li>re-rerun `output_notebook()` to attempt to load from CDN again, or</li>\\n\"+\n     \"<li>use INLINE resources instead, as so:</li>\\n\"+\n     \"</ul>\\n\"+\n     \"<code>\\n\"+\n     \"from bokeh.resources import INLINE\\n\"+\n     \"output_notebook(resources=INLINE)\\n\"+\n     \"</code>\\n\"+\n     \"</div>\"}};\n\n  function display_loaded() {\n    var el = document.getElementById(null);\n    if (el != null) {\n      el.textContent = \"BokehJS is loading...\";\n    }\n    if (root.Bokeh !== undefined) {\n      if (el != null) {\n        el.textContent = \"BokehJS \" + root.Bokeh.version + \" successfully loaded.\";\n      }\n    } else if (Date.now() < root._bokeh_timeout) {\n      setTimeout(display_loaded, 100)\n    }\n  }\n\n\n  function run_callbacks() {\n    try {\n      root._bokeh_onload_callbacks.forEach(function(callback) {\n        if (callback != null)\n          callback();\n      });\n    } finally {\n      delete root._bokeh_onload_callbacks\n    }\n    console.debug(\"Bokeh: all callbacks have finished\");\n  }\n\n  function load_libs(css_urls, js_urls, callback) {\n    if (css_urls == null) css_urls = [];\n    if (js_urls == null) js_urls = [];\n\n    root._bokeh_onload_callbacks.push(callback);\n    if (root._bokeh_is_loading > 0) {\n      console.debug(\"Bokeh: BokehJS is being loaded, scheduling callback at\", now());\n      return null;\n    }\n    if (js_urls == null || js_urls.length === 0) {\n      run_callbacks();\n      return null;\n    }\n    console.debug(\"Bokeh: BokehJS not loaded, scheduling load and callback at\", now());\n    root._bokeh_is_loading = css_urls.length + js_urls.length;\n\n    function on_load() {\n      root._bokeh_is_loading--;\n      if (root._bokeh_is_loading === 0) {\n        console.debug(\"Bokeh: all BokehJS libraries/stylesheets loaded\");\n        run_callbacks()\n      }\n    }\n\n    function on_error(url) {\n      console.error(\"failed to load \" + url);\n    }\n\n    for (let i = 0; i < css_urls.length; i++) {\n      const url = css_urls[i];\n      const element = document.createElement(\"link\");\n      element.onload = on_load;\n      element.onerror = on_error.bind(null, url);\n      element.rel = \"stylesheet\";\n      element.type = \"text/css\";\n      element.href = url;\n      console.debug(\"Bokeh: injecting link tag for BokehJS stylesheet: \", url);\n      document.body.appendChild(element);\n    }\n\n    const hashes = {\"https://cdn.bokeh.org/bokeh/release/bokeh-2.3.3.min.js\": \"dM3QQsP+wXdHg42wTqW85BjZQdLNNIXqlPw/BgKoExPmTG7ZLML4EGqLMfqHT6ON\", \"https://cdn.bokeh.org/bokeh/release/bokeh-tables-2.3.3.min.js\": \"8x57I4YuIfu8XyZfFo0XVr2WAT8EK4rh/uDe3wF7YuW2FNUSNEpJbsPaB1nJ2fz2\", \"https://cdn.bokeh.org/bokeh/release/bokeh-widgets-2.3.3.min.js\": \"3QTqdz9LyAm2i0sG5XTePsHec3UHWwVsrOL68SYRoAXsafvfAyqtQ+h440+qIBhS\"};\n\n    for (let i = 0; i < js_urls.length; i++) {\n      const url = js_urls[i];\n      const element = document.createElement('script');\n      element.onload = on_load;\n      element.onerror = on_error.bind(null, url);\n      element.async = false;\n      element.src = url;\n      if (url in hashes) {\n        element.crossOrigin = \"anonymous\";\n        element.integrity = \"sha384-\" + hashes[url];\n      }\n      console.debug(\"Bokeh: injecting script tag for BokehJS library: \", url);\n      document.head.appendChild(element);\n    }\n  };\n\n  function inject_raw_css(css) {\n    const element = document.createElement(\"style\");\n    element.appendChild(document.createTextNode(css));\n    document.body.appendChild(element);\n  }\n\n  \n  var js_urls = [\"https://cdn.bokeh.org/bokeh/release/bokeh-2.3.3.min.js\", \"https://cdn.bokeh.org/bokeh/release/bokeh-widgets-2.3.3.min.js\", \"https://cdn.bokeh.org/bokeh/release/bokeh-tables-2.3.3.min.js\"];\n  var css_urls = [];\n  \n\n  var inline_js = [\n    function(Bokeh) {\n      Bokeh.set_log_level(\"info\");\n    },\n    function(Bokeh) {\n    \n    \n    }\n  ];\n\n  function run_inline_js() {\n    \n    if (root.Bokeh !== undefined || force === true) {\n      \n    for (var i = 0; i < inline_js.length; i++) {\n      inline_js[i].call(root, root.Bokeh);\n    }\n    } else if (Date.now() < root._bokeh_timeout) {\n      setTimeout(run_inline_js, 100);\n    } else if (!root._bokeh_failed_load) {\n      console.log(\"Bokeh: BokehJS failed to load within specified timeout.\");\n      root._bokeh_failed_load = true;\n    } else if (force !== true) {\n      var cell = $(document.getElementById(null)).parents('.cell').data().cell;\n      cell.output_area.append_execute_result(NB_LOAD_WARNING)\n    }\n\n  }\n\n  if (root._bokeh_is_loading === 0) {\n    console.debug(\"Bokeh: BokehJS loaded, going straight to plotting\");\n    run_inline_js();\n  } else {\n    load_libs(css_urls, js_urls, function() {\n      console.debug(\"Bokeh: BokehJS plotting callback run at\", now());\n      run_inline_js();\n    });\n  }\n}(window));"
          },
          "metadata": {}
        },
        {
          "output_type": "display_data",
          "data": {
            "text/html": [
              "\n",
              "\n",
              "\n",
              "\n",
              "\n",
              "\n",
              "  <div class=\"bk-root\" id=\"6b8f665f-72c1-4bb7-aacf-b92f302cce6c\" data-root-id=\"1002\"></div>\n"
            ]
          },
          "metadata": {}
        },
        {
          "output_type": "display_data",
          "data": {
            "application/javascript": [
              "(function(root) {\n",
              "  function embed_document(root) {\n",
              "    \n",
              "  var docs_json = {\"04c0fe65-0609-46c2-8e5e-0a14ad3200fe\":{\"defs\":[],\"roots\":{\"references\":[{\"attributes\":{\"below\":[{\"id\":\"1011\"}],\"center\":[{\"id\":\"1013\"},{\"id\":\"1017\"}],\"height\":400,\"left\":[{\"id\":\"1014\"}],\"renderers\":[{\"id\":\"1036\"}],\"title\":{\"id\":\"1038\"},\"toolbar\":{\"id\":\"1025\"},\"width\":400,\"x_range\":{\"id\":\"1003\"},\"x_scale\":{\"id\":\"1007\"},\"y_range\":{\"id\":\"1005\"},\"y_scale\":{\"id\":\"1009\"}},\"id\":\"1002\",\"subtype\":\"Figure\",\"type\":\"Plot\"},{\"attributes\":{},\"id\":\"1044\",\"type\":\"AllLabels\"},{\"attributes\":{},\"id\":\"1015\",\"type\":\"BasicTicker\"},{\"attributes\":{\"fill_alpha\":{\"value\":0.7},\"fill_color\":{\"field\":\"color\"},\"line_alpha\":{\"value\":0.7},\"line_color\":{\"field\":\"color\"},\"top\":{\"field\":\"top\"},\"width\":{\"value\":0.5},\"x\":{\"field\":\"categories\"}},\"id\":\"1034\",\"type\":\"VBar\"},{\"attributes\":{},\"id\":\"1019\",\"type\":\"WheelZoomTool\"},{\"attributes\":{},\"id\":\"1038\",\"type\":\"Title\"},{\"attributes\":{\"data\":{\"categories\":[\"Divorced\",\"Ever_married\",\"Married\",\"Single\",\"Widowed\"],\"color\":[\"limegreen\",\"red\",\"skyblue\",\"yellow\",\"orange\"],\"top\":[47780,509,50387,45799,53482]},\"selected\":{\"id\":\"1046\"},\"selection_policy\":{\"id\":\"1047\"}},\"id\":\"1032\",\"type\":\"ColumnDataSource\"},{\"attributes\":{},\"id\":\"1041\",\"type\":\"AllLabels\"},{\"attributes\":{},\"id\":\"1005\",\"type\":\"DataRange1d\"},{\"attributes\":{},\"id\":\"1046\",\"type\":\"Selection\"},{\"attributes\":{\"active_multi\":null,\"tools\":[{\"id\":\"1018\"},{\"id\":\"1019\"},{\"id\":\"1020\"},{\"id\":\"1021\"},{\"id\":\"1022\"},{\"id\":\"1023\"}]},\"id\":\"1025\",\"type\":\"Toolbar\"},{\"attributes\":{\"factors\":[\"Divorced\",\"Ever_married\",\"Married\",\"Single\",\"Widowed\"]},\"id\":\"1003\",\"type\":\"FactorRange\"},{\"attributes\":{\"formatter\":{\"id\":\"1042\"},\"major_label_policy\":{\"id\":\"1041\"},\"ticker\":{\"id\":\"1015\"}},\"id\":\"1014\",\"type\":\"LinearAxis\"},{\"attributes\":{},\"id\":\"1042\",\"type\":\"BasicTickFormatter\"},{\"attributes\":{},\"id\":\"1021\",\"type\":\"SaveTool\"},{\"attributes\":{\"fill_alpha\":{\"value\":0.1},\"fill_color\":{\"field\":\"color\"},\"line_alpha\":{\"value\":0.1},\"line_color\":{\"field\":\"color\"},\"top\":{\"field\":\"top\"},\"width\":{\"value\":0.5},\"x\":{\"field\":\"categories\"}},\"id\":\"1035\",\"type\":\"VBar\"},{\"attributes\":{},\"id\":\"1023\",\"type\":\"HelpTool\"},{\"attributes\":{\"overlay\":{\"id\":\"1024\"}},\"id\":\"1020\",\"type\":\"BoxZoomTool\"},{\"attributes\":{},\"id\":\"1007\",\"type\":\"CategoricalScale\"},{\"attributes\":{},\"id\":\"1022\",\"type\":\"ResetTool\"},{\"attributes\":{\"data_source\":{\"id\":\"1032\"},\"glyph\":{\"id\":\"1034\"},\"hover_glyph\":null,\"muted_glyph\":null,\"nonselection_glyph\":{\"id\":\"1035\"},\"view\":{\"id\":\"1037\"}},\"id\":\"1036\",\"type\":\"GlyphRenderer\"},{\"attributes\":{},\"id\":\"1047\",\"type\":\"UnionRenderers\"},{\"attributes\":{},\"id\":\"1009\",\"type\":\"LinearScale\"},{\"attributes\":{\"axis\":{\"id\":\"1011\"},\"ticker\":null},\"id\":\"1013\",\"type\":\"Grid\"},{\"attributes\":{\"formatter\":{\"id\":\"1045\"},\"major_label_policy\":{\"id\":\"1044\"},\"ticker\":{\"id\":\"1012\"}},\"id\":\"1011\",\"type\":\"CategoricalAxis\"},{\"attributes\":{},\"id\":\"1012\",\"type\":\"CategoricalTicker\"},{\"attributes\":{\"axis\":{\"id\":\"1014\"},\"dimension\":1,\"ticker\":null},\"id\":\"1017\",\"type\":\"Grid\"},{\"attributes\":{},\"id\":\"1045\",\"type\":\"CategoricalTickFormatter\"},{\"attributes\":{\"source\":{\"id\":\"1032\"}},\"id\":\"1037\",\"type\":\"CDSView\"},{\"attributes\":{},\"id\":\"1018\",\"type\":\"PanTool\"},{\"attributes\":{\"bottom_units\":\"screen\",\"fill_alpha\":0.5,\"fill_color\":\"lightgrey\",\"left_units\":\"screen\",\"level\":\"overlay\",\"line_alpha\":1.0,\"line_color\":\"black\",\"line_dash\":[4,4],\"line_width\":2,\"right_units\":\"screen\",\"syncable\":false,\"top_units\":\"screen\"},\"id\":\"1024\",\"type\":\"BoxAnnotation\"}],\"root_ids\":[\"1002\"]},\"title\":\"Bokeh Application\",\"version\":\"2.3.3\"}};\n",
              "  var render_items = [{\"docid\":\"04c0fe65-0609-46c2-8e5e-0a14ad3200fe\",\"root_ids\":[\"1002\"],\"roots\":{\"1002\":\"6b8f665f-72c1-4bb7-aacf-b92f302cce6c\"}}];\n",
              "  root.Bokeh.embed.embed_items_notebook(docs_json, render_items);\n",
              "\n",
              "  }\n",
              "  if (root.Bokeh !== undefined) {\n",
              "    embed_document(root);\n",
              "  } else {\n",
              "    var attempts = 0;\n",
              "    var timer = setInterval(function(root) {\n",
              "      if (root.Bokeh !== undefined) {\n",
              "        clearInterval(timer);\n",
              "        embed_document(root);\n",
              "      } else {\n",
              "        attempts++;\n",
              "        if (attempts > 100) {\n",
              "          clearInterval(timer);\n",
              "          console.log(\"Bokeh: ERROR: Unable to run BokehJS code because BokehJS library is missing\");\n",
              "        }\n",
              "      }\n",
              "    }, 10, root)\n",
              "  }\n",
              "})(window);"
            ],
            "application/vnd.bokehjs_exec.v0+json": ""
          },
          "metadata": {
            "application/vnd.bokehjs_exec.v0+json": {
              "id": "1002"
            }
          }
        }
      ]
    },
    {
      "cell_type": "markdown",
      "metadata": {
        "id": "77JOkQpP62EC"
      },
      "source": [
        "#**Observation**\n",
        "\n",
        "> The data we plotted the chart tells us that there are more than 50000 cases of widowed i.e Fate as played very badly with many of them.\n",
        "\n",
        ">And, the least (Nearer to 0) is Ever_married i.e There are less members are in the list of Ever Married\n"
      ]
    },
    {
      "cell_type": "code",
      "metadata": {
        "colab": {
          "base_uri": "https://localhost:8080/",
          "height": 820
        },
        "id": "eTBOfOZZwUSd",
        "outputId": "36200341-701f-41cd-9c8b-5c046812b8d1"
      },
      "source": [
        "DD=data.groupby('Data Source').count() #it will group the values(variables) in the column and counts it\n",
        "datanames=list(DD.index)     #storing the index's in the form of list\n",
        "datavalue=list(DD['Country or area']) #storing the count of values(variables) in the form of list\n",
        "print(datanames)\n",
        "print(datavalue)\n",
        "\n",
        "#PieChart - A Pie Chart is a type of graph that displays data in a circular graph.\n",
        "# each slice of the pie is relative to the size of that category\n",
        "explode=[0.1,0.1,0.4,0.5,0.7,0.5,0.4,0.5,0.3,0.3,1.5,1,0.5,0,0.1]\n",
        "plt.pie(datavalue, labels=datanames,explode=explode,shadow=True,radius=2, autopct=\"%0.1f%%\",pctdistance=1.5,labeldistance=1.8,rotatelabels = 135, wedgeprops={'edgecolor':'pink'})\n",
        "#plt.title(\"Data Sources where the data collected\")\n",
        "plt.show()"
      ],
      "execution_count": null,
      "outputs": [
        {
          "output_type": "stream",
          "name": "stdout",
          "text": [
            "['DHS_HH', 'DHS_STATcompiler', 'Eurostat', 'GFHS', 'GGS', 'INED', 'IPUMS', 'MICS', 'MICS_HH', 'National statistics', 'PAPCHILD', 'PAPFAM', 'RHS', 'UNSD', 'US Census Bureau']\n",
            "[15990, 18716, 2873, 440, 1832, 6987, 1474, 5744, 5838, 16819, 204, 352, 227, 167623, 7998]\n"
          ]
        },
        {
          "output_type": "display_data",
          "data": {
            "text/plain": [
              "<Figure size 432x288 with 1 Axes>"
            ],
            "image/png": "[encoded data removed]"
          },
          "metadata": {}
        }
      ]
    },
    {
      "cell_type": "markdown",
      "metadata": {
        "id": "FxB1BEsLhg69"
      },
      "source": [
        "<pre>\n",
        "  DHS_HH             =  Demographic and Health Survey, Household Data\n",
        "  DHS_STATcompiler   = Demographic and Health Survey, STATcompiler\n",
        "  Eurostat           = Statistical office of the European Union\n",
        "  GFHS               = Gulf Family Health Survey\n",
        "  GGS                = Generations and Gender Survey\n",
        "  INED               = Institut National d'Études Démographiques\n",
        "  IPUMS              = Integrated Public Use Microdata Series\n",
        "  MICS               = Multiple Indicator Cluster Survey\n",
        "  MICS_HH            = Multiple Indicator Cluster Survey, Household Data\n",
        "  National statistics = National Statistics Office\n",
        "  PAPCHILD           = Pan-Arab Project for Child Development Survey\n",
        "  PAPFAM             = Pan-Arab Project for Family Health Survey\n",
        "  RHS               = Reproductive Health Survey\n",
        "  UNSD              = United Nations Statistics Division\n",
        "  US Census Bureau  = United States Census Bureau"
      ]
    },
    {
      "cell_type": "markdown",
      "metadata": {
        "id": "YKYO7wlaSKMk"
      },
      "source": [
        "#**Observation**\n",
        "> The plot which is plotted gives the information about the Data Source that the Most ( i.e 66.2% ) of data is collected from 'UNSD' ,Where as the least ( i.e  0.1% ) data is from 'PAPCHILD', 'PAPFAM', 'RHS'\n"
      ]
    },
    {
      "cell_type": "code",
      "metadata": {
        "colab": {
          "base_uri": "https://localhost:8080/",
          "height": 1000
        },
        "id": "KOr1ykGj5kpZ",
        "outputId": "f45f6bac-9083-40c5-f365-18cc14a377b2"
      },
      "source": [
        "#boxplot - known as the box and whisker plot.\n",
        "#It shows the distribution of the quantitative data that represents the comparisons between variables\n",
        "\n",
        "countries=df['Country or area']\n",
        "x = np.array(list(countries))\n",
        "print(\"the countries names are\")\n",
        "print(np.unique(x))\n",
        "\n",
        "fig, ax = plt.subplots(ncols=2, nrows=1, figsize=(15,10))\n",
        "\n",
        "countryname=input(\"enter the country name from the above list for which you want to the plot\")\n",
        "datadf=df[df['Country or area'] == countryname][['Country or area','AgeStart','AgeEnd','Sex']]\n",
        "\n",
        "sns.boxplot(x ='Country or area', y ='AgeStart', data = datadf, ax=ax[0],hue ='Sex').set_title('Box Plot of AgeStart of country {}'.format(countryname))\n",
        "sns.boxplot(x ='Country or area', y ='AgeEnd', data = datadf, ax=ax[1],hue ='Sex').set_title('Box Plot of AgeEnd of country {}'.format(countryname))\n",
        "\n",
        "#Hue - Grouping variable that will produce points with different colors. Can be either categorical or numeric, although color mapping will behave differently in latter case.\n",
        "\n",
        "plt.show()"
      ],
      "execution_count": null,
      "outputs": [
        {
          "name": "stdout",
          "output_type": "stream",
          "text": [
            "the countries names are\n",
            "['Afghanistan' 'Albania' 'Algeria' 'American Samoa' 'Angola' 'Anguilla'\n",
            " 'Antigua and Barbuda' 'Argentina' 'Armenia' 'Aruba' 'Australia' 'Austria'\n",
            " 'Azerbaijan' 'Bahamas' 'Bahrain' 'Bangladesh' 'Barbados' 'Belarus'\n",
            " 'Belgium' 'Belize' 'Benin' 'Bermuda' 'Bhutan'\n",
            " 'Bolivia (Plurinational State of)' 'Bosnia and Herzegovina' 'Botswana'\n",
            " 'Brazil' 'British Virgin Islands' 'Brunei Darussalam' 'Bulgaria'\n",
            " 'Burkina Faso' 'Burundi' 'Cabo Verde' 'Cambodia' 'Cameroon' 'Canada'\n",
            " 'Cayman Islands' 'Central African Republic' 'Chad' 'Channel Islands'\n",
            " 'Chile' 'China' 'China, Hong Kong SAR' 'China, Macao SAR'\n",
            " 'China, Taiwan Province of China' 'Colombia' 'Comoros' 'Congo'\n",
            " 'Cook Islands' 'Costa Rica' 'Croatia' 'Cuba' 'Curaçao' 'Cyprus' 'Czechia'\n",
            " \"Côte d'Ivoire\" \"Dem. People's Rep. of Korea\"\n",
            " 'Democratic Republic of the Congo' 'Denmark' 'Djibouti' 'Dominica'\n",
            " 'Dominican Republic' 'Ecuador' 'Egypt' 'El Salvador' 'Equatorial Guinea'\n",
            " 'Eritrea' 'Estonia' 'Ethiopia' 'Faeroe Islands'\n",
            " 'Falkland Islands (Malvinas)' 'Fiji' 'Finland' 'France' 'French Guiana'\n",
            " 'French Polynesia' 'Gabon' 'Gambia' 'Georgia' 'Germany' 'Ghana'\n",
            " 'Gibraltar' 'Greece' 'Greenland' 'Grenada' 'Guadeloupe' 'Guam'\n",
            " 'Guatemala' 'Guinea' 'Guinea-Bissau' 'Guyana' 'Haiti' 'Honduras'\n",
            " 'Hungary' 'Iceland' 'India' 'Indonesia' 'Iran (Islamic Republic of)'\n",
            " 'Iraq' 'Ireland' 'Isle of Man' 'Israel' 'Italy' 'Jamaica' 'Japan'\n",
            " 'Jordan' 'Kazakhstan' 'Kenya' 'Kiribati' 'Kosovo (autonomous province)'\n",
            " 'Kuwait' 'Kyrgyzstan' \"Lao People's Democratic Republic\"\n",
            " 'Lao People’s Democratic Republic' 'Latvia' 'Lebanon' 'Lesotho' 'Liberia'\n",
            " 'Libya' 'Liechtenstein' 'Lithuania' 'Luxembourg' 'Madagascar' 'Malawi'\n",
            " 'Malaysia' 'Maldives' 'Mali' 'Malta' 'Marshall Islands' 'Martinique'\n",
            " 'Mauritania' 'Mauritius' 'Mayotte' 'Mexico' 'Micronesia (Fed. States of)'\n",
            " 'Monaco' 'Mongolia' 'Montenegro' 'Montserrat' 'Morocco' 'Mozambique'\n",
            " 'Myanmar' 'Namibia' 'Nauru' 'Nepal' 'Netherlands' 'Netherlands Antilles'\n",
            " 'New Caledonia' 'New Zealand' 'Nicaragua' 'Niger' 'Nigeria' 'Niue'\n",
            " 'Northern Mariana Islands' 'Norway' 'Oman' 'Pakistan' 'Palau' 'Panama'\n",
            " 'Papua New Guinea' 'Paraguay' 'Peru' 'Philippines' 'Poland' 'Portugal'\n",
            " 'Puerto Rico' 'Qatar' 'Republic of Korea' 'Republic of Moldova' 'Romania'\n",
            " 'Russian Federation' 'Rwanda' 'Réunion' 'Saint Helena'\n",
            " 'Saint Kitts and Nevis' 'Saint Lucia' 'Saint Pierre and Miquelon'\n",
            " 'Saint Vincent and the Grenadines' 'Samoa' 'San Marino'\n",
            " 'Sao Tome and Principe' 'Saudi Arabia' 'Senegal' 'Serbia' 'Seychelles'\n",
            " 'Sierra Leone' 'Singapore' 'Sint Maarten (Dutch part)' 'Slovakia'\n",
            " 'Slovenia' 'Solomon Islands' 'Somalia' 'South Africa' 'South Sudan'\n",
            " 'Spain' 'Sri Lanka' 'State of Palestine' 'Sudan' 'Suriname' 'Swaziland'\n",
            " 'Sweden' 'Switzerland' 'Syrian Arab Republic' 'TFYR Macedonia'\n",
            " 'Tajikistan' 'Thailand' 'The former Yugoslav Republic of Macedonia'\n",
            " 'Timor-Leste' 'Togo' 'Tokelau' 'Tonga' 'Trinidad and Tobago' 'Tunisia'\n",
            " 'Turkey' 'Turkmenistan' 'Turks and Caicos Islands' 'Tuvalu' 'Uganda'\n",
            " 'Ukraine' 'United Arab Emirates' 'United Kingdom'\n",
            " 'United Republic of Tanzania' 'United States Virgin Islands'\n",
            " 'United States of America' 'Uruguay' 'Uzbekistan' 'Vanuatu'\n",
            " 'Venezuela (Bolivarian Republic of)' 'Viet Nam'\n",
            " 'Wallis and Futuna Islands' 'Western Sahara' 'Yemen' 'Zambia' 'Zimbabwe']\n",
            "enter the country name from the above list for which you want to the plotIndia\n"
          ]
        },
        {
          "output_type": "display_data",
          "data": {
            "text/plain": [
              "<Figure size 1080x720 with 2 Axes>"
            ],
            "image/png": "[encoded data removed]"
          },
          "metadata": {
            "needs_background": "light"
          }
        }
      ]
    },
    {
      "cell_type": "markdown",
      "metadata": {
        "id": "dmTwzvglttFC"
      },
      "source": [
        "#**Observation**\n",
        "\n",
        "\n",
        ">As we see in the above chart age start in India is from 25 for both men and women\n",
        "And it is till 60 .In the age end plot  it is in range of 25-60. Both plot have outliers and this plot varies from one country to other.\n",
        "\n",
        "> **NOTE**\n",
        "\n",
        "> we can observe the box plot for different countries as your wish . Since we had give INDIA ,So, As per that we had written the observation for the plot"
      ]
    },
    {
      "cell_type": "code",
      "metadata": {
        "id": "d0IRg95KmcgG",
        "colab": {
          "base_uri": "https://localhost:8080/",
          "height": 206
        },
        "outputId": "a366324b-fad1-4311-e262-a7ca2967de7e"
      },
      "source": [
        "cdata = pd.read_csv('/content/drive/My Drive/Child-marriage-database.csv',encoding='utf8')\n",
        "cdata.head()"
      ],
      "execution_count": null,
      "outputs": [
        {
          "output_type": "execute_result",
          "data": {
            "text/plain": [
              "      Country   Female Married by 15  Female Married by 18  Reference year  \\\n",
              "0  Afghanistan                   4.0                  28.0          2017.0   \n",
              "1      Albania                   1.0                  12.0          2018.0   \n",
              "2      Algeria                   0.0                   3.0          2013.0   \n",
              "3      Andorra                   NaN                   NaN             NaN   \n",
              "4       Angola                   8.0                  30.0          2016.0   \n",
              "\n",
              "    Data source  Male Married by 18  Male Reference year Data source.1  \n",
              "0  ALCS 2016-17                 7.0               2015.0      DHS 2015  \n",
              "1   DHS 2017-18                 1.0               2018.0   DHS 2017-18  \n",
              "2  MICS 2012-13                 NaN                  NaN           NaN  \n",
              "3           NaN                 NaN                  NaN           NaN  \n",
              "4   DHS 2015-16                 6.0               2016.0   DHS 2015-16  "
            ],
            "text/html": [
              "\n",
              "  <div id=\"df-2f2e3421-94e7-4f2a-9b53-6b61b893937a\">\n",
              "    <div class=\"colab-df-container\">\n",
              "      <div>\n",
              "<style scoped>\n",
              "    .dataframe tbody tr th:only-of-type {\n",
              "        vertical-align: middle;\n",
              "    }\n",
              "\n",
              "    .dataframe tbody tr th {\n",
              "        vertical-align: top;\n",
              "    }\n",
              "\n",
              "    .dataframe thead th {\n",
              "        text-align: right;\n",
              "    }\n",
              "</style>\n",
              "<table border=\"1\" class=\"dataframe\">\n",
              "  <thead>\n",
              "    <tr style=\"text-align: right;\">\n",
              "      <th></th>\n",
              "      <th>Country</th>\n",
              "      <th>Female Married by 15</th>\n",
              "      <th>Female Married by 18</th>\n",
              "      <th>Reference year</th>\n",
              "      <th>Data source</th>\n",
              "      <th>Male Married by 18</th>\n",
              "      <th>Male Reference year</th>\n",
              "      <th>Data source.1</th>\n",
              "    </tr>\n",
              "  </thead>\n",
              "  <tbody>\n",
              "    <tr>\n",
              "      <th>0</th>\n",
              "      <td>Afghanistan</td>\n",
              "      <td>4.0</td>\n",
              "      <td>28.0</td>\n",
              "      <td>2017.0</td>\n",
              "      <td>ALCS 2016-17</td>\n",
              "      <td>7.0</td>\n",
              "      <td>2015.0</td>\n",
              "      <td>DHS 2015</td>\n",
              "    </tr>\n",
              "    <tr>\n",
              "      <th>1</th>\n",
              "      <td>Albania</td>\n",
              "      <td>1.0</td>\n",
              "      <td>12.0</td>\n",
              "      <td>2018.0</td>\n",
              "      <td>DHS 2017-18</td>\n",
              "      <td>1.0</td>\n",
              "      <td>2018.0</td>\n",
              "      <td>DHS 2017-18</td>\n",
              "    </tr>\n",
              "    <tr>\n",
              "      <th>2</th>\n",
              "      <td>Algeria</td>\n",
              "      <td>0.0</td>\n",
              "      <td>3.0</td>\n",
              "      <td>2013.0</td>\n",
              "      <td>MICS 2012-13</td>\n",
              "      <td>NaN</td>\n",
              "      <td>NaN</td>\n",
              "      <td>NaN</td>\n",
              "    </tr>\n",
              "    <tr>\n",
              "      <th>3</th>\n",
              "      <td>Andorra</td>\n",
              "      <td>NaN</td>\n",
              "      <td>NaN</td>\n",
              "      <td>NaN</td>\n",
              "      <td>NaN</td>\n",
              "      <td>NaN</td>\n",
              "      <td>NaN</td>\n",
              "      <td>NaN</td>\n",
              "    </tr>\n",
              "    <tr>\n",
              "      <th>4</th>\n",
              "      <td>Angola</td>\n",
              "      <td>8.0</td>\n",
              "      <td>30.0</td>\n",
              "      <td>2016.0</td>\n",
              "      <td>DHS 2015-16</td>\n",
              "      <td>6.0</td>\n",
              "      <td>2016.0</td>\n",
              "      <td>DHS 2015-16</td>\n",
              "    </tr>\n",
              "  </tbody>\n",
              "</table>\n",
              "</div>\n",
              "      <button class=\"colab-df-convert\" onclick=\"convertToInteractive('df-2f2e3421-94e7-4f2a-9b53-6b61b893937a')\"\n",
              "              title=\"Convert this dataframe to an interactive table.\"\n",
              "              style=\"display:none;\">\n",
              "        \n",
              "  <svg xmlns=\"http://www.w3.org/2000/svg\" height=\"24px\"viewBox=\"0 0 24 24\"\n",
              "       width=\"24px\">\n",
              "    <path d=\"M0 0h24v24H0V0z\" fill=\"none\"/>\n",
              "    <path d=\"M18.56 5.44l.94 2.06.94-2.06 2.06-.94-2.06-.94-.94-2.06-.94 2.06-2.06.94zm-11 1L8.5 8.5l.94-2.06 2.06-.94-2.06-.94L8.5 2.5l-.94 2.06-2.06.94zm10 10l.94 2.06.94-2.06 2.06-.94-2.06-.94-.94-2.06-.94 2.06-2.06.94z\"/><path d=\"M17.41 7.96l-1.37-1.37c-.4-.4-.92-.59-1.43-.59-.52 0-1.04.2-1.43.59L10.3 9.45l-7.72 7.72c-.78.78-.78 2.05 0 2.83L4 21.41c.39.39.9.59 1.41.59.51 0 1.02-.2 1.41-.59l7.78-7.78 2.81-2.81c.8-.78.8-2.07 0-2.86zM5.41 20L4 18.59l7.72-7.72 1.47 1.35L5.41 20z\"/>\n",
              "  </svg>\n",
              "      </button>\n",
              "      \n",
              "  <style>\n",
              "    .colab-df-container {\n",
              "      display:flex;\n",
              "      flex-wrap:wrap;\n",
              "      gap: 12px;\n",
              "    }\n",
              "\n",
              "    .colab-df-convert {\n",
              "      background-color: #E8F0FE;\n",
              "      border: none;\n",
              "      border-radius: 50%;\n",
              "      cursor: pointer;\n",
              "      display: none;\n",
              "      fill: #1967D2;\n",
              "      height: 32px;\n",
              "      padding: 0 0 0 0;\n",
              "      width: 32px;\n",
              "    }\n",
              "\n",
              "    .colab-df-convert:hover {\n",
              "      background-color: #E2EBFA;\n",
              "      box-shadow: 0px 1px 2px rgba(60, 64, 67, 0.3), 0px 1px 3px 1px rgba(60, 64, 67, 0.15);\n",
              "      fill: #174EA6;\n",
              "    }\n",
              "\n",
              "    [theme=dark] .colab-df-convert {\n",
              "      background-color: #3B4455;\n",
              "      fill: #D2E3FC;\n",
              "    }\n",
              "\n",
              "    [theme=dark] .colab-df-convert:hover {\n",
              "      background-color: #434B5C;\n",
              "      box-shadow: 0px 1px 3px 1px rgba(0, 0, 0, 0.15);\n",
              "      filter: drop-shadow(0px 1px 2px rgba(0, 0, 0, 0.3));\n",
              "      fill: #FFFFFF;\n",
              "    }\n",
              "  </style>\n",
              "\n",
              "      <script>\n",
              "        const buttonEl =\n",
              "          document.querySelector('#df-2f2e3421-94e7-4f2a-9b53-6b61b893937a button.colab-df-convert');\n",
              "        buttonEl.style.display =\n",
              "          google.colab.kernel.accessAllowed ? 'block' : 'none';\n",
              "\n",
              "        async function convertToInteractive(key) {\n",
              "          const element = document.querySelector('#df-2f2e3421-94e7-4f2a-9b53-6b61b893937a');\n",
              "          const dataTable =\n",
              "            await google.colab.kernel.invokeFunction('convertToInteractive',\n",
              "                                                     [key], {});\n",
              "          if (!dataTable) return;\n",
              "\n",
              "          const docLinkHtml = 'Like what you see? Visit the ' +\n",
              "            '<a target=\"_blank\" href=https://colab.research.google.com/notebooks/data_table.ipynb>data table notebook</a>'\n",
              "            + ' to learn more about interactive tables.';\n",
              "          element.innerHTML = '';\n",
              "          dataTable['output_type'] = 'display_data';\n",
              "          await google.colab.output.renderOutput(dataTable, element);\n",
              "          const docLink = document.createElement('div');\n",
              "          docLink.innerHTML = docLinkHtml;\n",
              "          element.appendChild(docLink);\n",
              "        }\n",
              "      </script>\n",
              "    </div>\n",
              "  </div>\n",
              "  "
            ]
          },
          "metadata": {},
          "execution_count": 14
        }
      ]
    },
    {
      "cell_type": "markdown",
      "metadata": {
        "id": "KJWIIlkYoTfD"
      },
      "source": [
        "#**Dealing with Categorical features(handling missing data)**"
      ]
    },
    {
      "cell_type": "code",
      "metadata": {
        "id": "fShpGy--oZtN",
        "colab": {
          "base_uri": "https://localhost:8080/"
        },
        "outputId": "119e4f00-d971-48c3-cfae-99c16e139078"
      },
      "source": [
        "# categorical features\n",
        "categorical_feat = [feature for feature in cdata.columns if cdata[feature].dtypes=='O']\n",
        "print('Total categorical features: ', len(categorical_feat))\n",
        "print('\\n',categorical_feat)"
      ],
      "execution_count": null,
      "outputs": [
        {
          "output_type": "stream",
          "name": "stdout",
          "text": [
            "Total categorical features:  3\n",
            "\n",
            " ['Country ', 'Data source', 'Data source.1']\n"
          ]
        }
      ]
    },
    {
      "cell_type": "code",
      "metadata": {
        "id": "UuBllnyUomfO",
        "colab": {
          "base_uri": "https://localhost:8080/"
        },
        "outputId": "8ca1e7ee-d89b-4df3-ec5a-fcde77033b46"
      },
      "source": [
        "# categorical features with missing values\n",
        "categorical_nan = [feature for feature in cdata.columns if cdata[feature].isna().sum()>1 and cdata[feature].dtypes=='O']\n",
        "print(categorical_nan)"
      ],
      "execution_count": null,
      "outputs": [
        {
          "output_type": "stream",
          "name": "stdout",
          "text": [
            "['Data source', 'Data source.1']\n"
          ]
        }
      ]
    },
    {
      "cell_type": "code",
      "metadata": {
        "id": "9oA4EmBDo0SA",
        "colab": {
          "base_uri": "https://localhost:8080/"
        },
        "outputId": "face75d2-0ef5-43a8-ab10-8f8e825fe7e3"
      },
      "source": [
        "cdata[categorical_nan].isna().sum()"
      ],
      "execution_count": null,
      "outputs": [
        {
          "output_type": "execute_result",
          "data": {
            "text/plain": [
              "Data source       74\n",
              "Data source.1    107\n",
              "dtype: int64"
            ]
          },
          "metadata": {},
          "execution_count": 17
        }
      ]
    },
    {
      "cell_type": "code",
      "metadata": {
        "id": "JuW3fOM6o7v5",
        "colab": {
          "base_uri": "https://localhost:8080/"
        },
        "outputId": "62c4b2e4-eff1-4e89-9085-322e296215a5"
      },
      "source": [
        "# replacing missing values in categorical features\n",
        "for feature in categorical_nan:\n",
        "    cdata[feature] = cdata[feature].fillna('None')\n",
        "\n",
        "cdata[categorical_nan].isna().sum()"
      ],
      "execution_count": null,
      "outputs": [
        {
          "output_type": "execute_result",
          "data": {
            "text/plain": [
              "Data source      0\n",
              "Data source.1    0\n",
              "dtype: int64"
            ]
          },
          "metadata": {},
          "execution_count": 18
        }
      ]
    },
    {
      "cell_type": "markdown",
      "metadata": {
        "id": "pWsQwotRpIYa"
      },
      "source": [
        "#**Dealing with Numerical features(handling missing data)**"
      ]
    },
    {
      "cell_type": "code",
      "metadata": {
        "id": "h7AtRBRdpLtf",
        "colab": {
          "base_uri": "https://localhost:8080/"
        },
        "outputId": "4af4c5cf-e6e4-4ba9-9a46-d13ee8e6c312"
      },
      "source": [
        "# Lets first handle numerical features with nan value\n",
        "numerical_nan = [feature for feature in cdata.columns if cdata[feature].isna().sum()>1 and cdata[feature].dtypes!='O']\n",
        "print(numerical_nan)\n",
        "\n",
        "cdata[numerical_nan].isna().sum()"
      ],
      "execution_count": null,
      "outputs": [
        {
          "output_type": "stream",
          "name": "stdout",
          "text": [
            "['Female Married by 15', 'Female Married by 18', 'Reference year', 'Male Married by 18', 'Male Reference year']\n"
          ]
        },
        {
          "output_type": "execute_result",
          "data": {
            "text/plain": [
              "Female Married by 15     74\n",
              "Female Married by 18     74\n",
              "Reference year           74\n",
              "Male Married by 18      107\n",
              "Male Reference year     107\n",
              "dtype: int64"
            ]
          },
          "metadata": {},
          "execution_count": 19
        }
      ]
    },
    {
      "cell_type": "code",
      "metadata": {
        "id": "KJ52JOLFpfI-",
        "colab": {
          "base_uri": "https://localhost:8080/"
        },
        "outputId": "cea71026-0165-4215-9ec6-18a01261c9c4"
      },
      "source": [
        "## Replacing the numerical Missing Values\n",
        "\n",
        "for feature in numerical_nan:\n",
        "    ## We will replace by using median since there are outliers\n",
        "    median_value=cdata[feature].median()\n",
        "\n",
        "    cdata[feature].fillna(median_value,inplace=True)\n",
        "\n",
        "cdata[numerical_nan].isnull().sum()"
      ],
      "execution_count": null,
      "outputs": [
        {
          "output_type": "execute_result",
          "data": {
            "text/plain": [
              "Female Married by 15    0\n",
              "Female Married by 18    0\n",
              "Reference year          0\n",
              "Male Married by 18      0\n",
              "Male Reference year     0\n",
              "dtype: int64"
            ]
          },
          "metadata": {},
          "execution_count": 20
        }
      ]
    },
    {
      "cell_type": "code",
      "metadata": {
        "id": "zXIQNfUsqGbk",
        "colab": {
          "base_uri": "https://localhost:8080/",
          "height": 856
        },
        "outputId": "d7d14b30-4233-4a3b-f999-68654b42640e"
      },
      "source": [
        "def plot_count(feature, title, df, size):\n",
        "    f, ax = plt.subplots(1,1, figsize=(4*size,4))\n",
        "    total = float(len(cdata))\n",
        "    g = sns.countplot(cdata[feature], order = cdata[feature].value_counts().index[:20], palette='Set3')\n",
        "    g.set_title(\"Number and percentage of {}\".format(title))\n",
        "    if(size > 2):\n",
        "         ax.set_xticklabels(cdata['Country '].unique().astype(str), rotation='vertical')\n",
        "\n",
        "\n",
        "    plt.show()\n",
        "plot_count(\"Female Married by 15\", \"Female Married by 15\", cdata,4)\n",
        "plot_count(\"Male Married by 18\", \"Male Married by 18\", cdata,4)"
      ],
      "execution_count": null,
      "outputs": [
        {
          "output_type": "stream",
          "name": "stderr",
          "text": [
            "/usr/local/lib/python3.7/dist-packages/seaborn/_decorators.py:43: FutureWarning: Pass the following variable as a keyword arg: x. From version 0.12, the only valid positional argument will be `data`, and passing other arguments without an explicit keyword will result in an error or misinterpretation.\n",
            "  FutureWarning\n"
          ]
        },
        {
          "output_type": "display_data",
          "data": {
            "text/plain": [
              "<Figure size 1152x288 with 1 Axes>"
            ],
            "image/png": "[encoded data removed]"
          },
          "metadata": {
            "needs_background": "light"
          }
        },
        {
          "output_type": "stream",
          "name": "stderr",
          "text": [
            "/usr/local/lib/python3.7/dist-packages/seaborn/_decorators.py:43: FutureWarning: Pass the following variable as a keyword arg: x. From version 0.12, the only valid positional argument will be `data`, and passing other arguments without an explicit keyword will result in an error or misinterpretation.\n",
            "  FutureWarning\n"
          ]
        },
        {
          "output_type": "display_data",
          "data": {
            "text/plain": [
              "<Figure size 1152x288 with 1 Axes>"
            ],
            "image/png": "[encoded data removed]"
          },
          "metadata": {
            "needs_background": "light"
          }
        }
      ]
    },
    {
      "cell_type": "markdown",
      "metadata": {
        "id": "fzghdMAwXYqg"
      },
      "source": [
        "##**Observation:**\n",
        "> As per the above chart the high percent marriages are from the country Afghanisthan (i.e more than 80 \"Females Married below 15\"  And more than 110 \"Male Married below 18\" )\n",
        "\n",
        ">It seems the child marriages are more occured in Afganisthan"
      ]
    },
    {
      "cell_type": "code",
      "metadata": {
        "id": "yDGJr1QCq-GZ",
        "colab": {
          "base_uri": "https://localhost:8080/",
          "height": 369
        },
        "outputId": "6f730f80-d9c5-46a8-a4a4-001b81301f9b"
      },
      "source": [
        "fig=sns.lmplot(x='Reference year', y=\"Female Married by 15\",data=cdata)"
      ],
      "execution_count": null,
      "outputs": [
        {
          "output_type": "display_data",
          "data": {
            "text/plain": [
              "<Figure size 360x360 with 1 Axes>"
            ],
            "image/png": "[encoded data removed]"
          },
          "metadata": {
            "needs_background": "light"
          }
        }
      ]
    },
    {
      "cell_type": "markdown",
      "metadata": {
        "id": "PY2jYM0-16p5"
      },
      "source": [
        "#**observation**\n",
        "> In the above plot,we can see most marriages occured in 2018\n",
        "\n",
        " >But,At OneTime the number of marriages occured in 2015 had reached more than 30"
      ]
    },
    {
      "cell_type": "code",
      "metadata": {
        "id": "YZKtGc50rYob",
        "colab": {
          "base_uri": "https://localhost:8080/",
          "height": 426
        },
        "outputId": "baefca2f-d3a8-47f4-c45f-99df76994430"
      },
      "source": [
        "#DistPlot - A distplot plots a univariate distribution of observations.\n",
        "#The distplot() function combines the matplotlib hist function with the seaborn kdeplot() and rugplot() functions.\n",
        "\n",
        "\n",
        "cdata = cdata.rename(columns={'Female Married by 15':'fmarried15', 'Female Married by 18': 'fmarried18', 'Male Married by 18': 'mMarried18'})\n",
        "\n",
        "\n",
        "# Distribution of different type of amount\n",
        "fig , ax = plt.subplots(1,2,figsize = (12,5))\n",
        "\n",
        "mMarried18 = cdata.mMarried18.values\n",
        "fmarried18 = cdata.fmarried18.values\n",
        "\n",
        "sns.distplot(mMarried18 , ax = ax[0] , color = 'red').set_title('Male Married by 18' , fontsize = 14)\n",
        "sns.distplot(fmarried18 , ax = ax[1] , color = 'blue').set_title('Female Married by 18' , fontsize = 14)\n",
        "\n",
        "\n",
        "\n",
        "plt.show()"
      ],
      "execution_count": null,
      "outputs": [
        {
          "output_type": "stream",
          "name": "stderr",
          "text": [
            "/usr/local/lib/python3.7/dist-packages/seaborn/distributions.py:2619: FutureWarning: `distplot` is a deprecated function and will be removed in a future version. Please adapt your code to use either `displot` (a figure-level function with similar flexibility) or `histplot` (an axes-level function for histograms).\n",
            "  warnings.warn(msg, FutureWarning)\n",
            "/usr/local/lib/python3.7/dist-packages/seaborn/distributions.py:2619: FutureWarning: `distplot` is a deprecated function and will be removed in a future version. Please adapt your code to use either `displot` (a figure-level function with similar flexibility) or `histplot` (an axes-level function for histograms).\n",
            "  warnings.warn(msg, FutureWarning)\n"
          ]
        },
        {
          "output_type": "display_data",
          "data": {
            "text/plain": [
              "<Figure size 864x360 with 2 Axes>"
            ],
            "image/png": "[encoded data removed]"
          },
          "metadata": {
            "needs_background": "light"
          }
        }
      ]
    },
    {
      "cell_type": "markdown",
      "metadata": {
        "id": "qPQS4hOyuGVb"
      },
      "source": [
        "#**Observation**\n",
        "\n",
        ">In the left side dist plot the count 5 is the mostly repeated in all the countries where Male is married by 18\n",
        "\n",
        ">In the right side dist plot the count 21 is the mostly repeated in all the countries where Female is married by 18\n"
      ]
    },
    {
      "cell_type": "markdown",
      "metadata": {
        "id": "qiUtS2qVrT0F"
      },
      "source": [
        "<br>\n",
        "\n",
        "\n",
        "</br>\n",
        "\n",
        "#**Conclusion**\n",
        "\n",
        "**From the whole Project,**\n",
        "\n",
        "<pre><b>            First thing there are less datasets of marriage and they also contain little knowledge.\n",
        "            We tried our best to present the data which can be useful to get insights.\n",
        "            Major child marriage occuured in Afghanistan,And\n",
        "            There are cases where marriages occured at 60 also .\n",
        "            So, Age doesn't matter in case of getting married.It is just a Number.\n",
        "</b></pre>\n",
        "\n"
      ]
    }
  ]
}